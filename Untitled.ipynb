{
 "cells": [
  {
   "cell_type": "code",
   "execution_count": 23,
   "id": "049e42c1-872f-4249-990f-f200b95e0c49",
   "metadata": {},
   "outputs": [],
   "source": [
    "\n",
    "import asyncio\n",
    "from dataclasses import asdict\n",
    "from dbtsl.asyncio import AsyncSemanticLayerClient\n",
    "from langchain.vectorstores import Chroma\n",
    "from langchain.embeddings import OpenAIEmbeddings\n",
    "from langchain.chat_models.base import BaseChatModel\n",
    "from langchain.chat_models import ChatOpenAI\n",
    "from langchain.schema import Document\n",
    "from langchain_groq import ChatGroq\n",
    "from pydantic import BaseModel, Field\n",
    "from typing import List, Optional\n",
    "import json\n",
    "import os\n",
    "import nest_asyncio\n",
    "nest_asyncio.apply() "
   ]
  },
  {
   "cell_type": "code",
   "execution_count": 47,
   "id": "504c4082-8500-42e6-968a-f12522db3fb3",
   "metadata": {},
   "outputs": [],
   "source": [
    "class RetrievedMetric(BaseModel):\n",
    "    \"\"\"A metric retrieved from the semantic layer\"\"\"\n",
    "    id: str\n",
    "    name: str\n",
    "    description: str\n",
    "    type: str\n",
    "\n",
    "class RetrievedDimension(BaseModel):\n",
    "    \"\"\"A dimension retrieved from the semantic layer\"\"\"\n",
    "    id: str\n",
    "    name: str\n",
    "    description: str\n",
    "    metric_id: str\n",
    "\n",
    "class RetrievalResult(BaseModel):\n",
    "    \"\"\"Results from the retriever to be passed to query construction\"\"\"\n",
    "    metrics: List[RetrievedMetric] = Field(\n",
    "        description=\"Metrics found relevant to the query\"\n",
    "    )\n",
    "    dimensions: List[RetrievedDimension] = Field(\n",
    "        description=\"Dimensions found relevant to the query\"\n",
    "    )\n",
    "\n",
    "class SemanticLayerRetriever:\n",
    "    def __init__(\n",
    "        self,\n",
    "        environment_id: int,\n",
    "        auth_token: str,\n",
    "        host: str = \"semantic-layer.cloud.getdbt.com\",\n",
    "        persist_directory: str = \"./chroma_db\",\n",
    "        llm: Optional[BaseChatModel] = None,\n",
    "        embeddings: Optional[OpenAIEmbeddings] = None\n",
    "    ):\n",
    "        self.client = AsyncSemanticLayerClient(\n",
    "            environment_id=environment_id,\n",
    "            auth_token=auth_token,\n",
    "            host=host\n",
    "        )\n",
    "        self.persist_directory = persist_directory\n",
    "        self.embeddings = embeddings or OpenAIEmbeddings()\n",
    "        self.llm = llm or ChatOpenAI(temperature=0)\n",
    "        \n",
    "        # Initialize stores\n",
    "        self.metric_store = Chroma(\n",
    "            collection_name=\"metrics\",\n",
    "            embedding_function=self.embeddings,\n",
    "            persist_directory=f\"{persist_directory}/metrics\"\n",
    "        )\n",
    "        \n",
    "        self.dimension_store = Chroma(\n",
    "            collection_name=\"dimensions\",\n",
    "            embedding_function=self.embeddings,\n",
    "            persist_directory=f\"{persist_directory}/dimensions\"\n",
    "        )\n",
    "    \n",
    "    async def refresh_stores(self):\n",
    "        \"\"\"Fetch latest metrics and rebuild stores\"\"\"\n",
    "        async with self.client.session():\n",
    "            metrics = await self.client.metrics()\n",
    "            \n",
    "            # Clear existing stores\n",
    "            self.metric_store.delete_collection()\n",
    "            self.dimension_store.delete_collection()\n",
    "            \n",
    "            # Rebuild stores\n",
    "            metric_docs = []\n",
    "            dimension_docs = []\n",
    "            \n",
    "            for metric in metrics:\n",
    "                metric_docs.append(Document(\n",
    "                    page_content=f\"{metric.name}: {metric.description}\",\n",
    "                    metadata={\n",
    "                        \"id\": metric.name,\n",
    "                        \"name\": metric.name,\n",
    "                        \"description\": metric.description,\n",
    "                        \"type\": metric.type,\n",
    "                    }\n",
    "                ))\n",
    "                \n",
    "                for dim in metric.dimensions:\n",
    "                    dimension_docs.append(Document(\n",
    "                        page_content=f\"{dim.name}: {dim.description}\",\n",
    "                        metadata={\n",
    "                            \"id\": f\"{metric.name}_{dim.name}\",\n",
    "                            \"name\": dim.name,\n",
    "                            \"description\": dim.description or \"\",\n",
    "                            \"metric_id\": metric.name,\n",
    "                        }\n",
    "                    ))\n",
    "            \n",
    "            # Recreate collections with new documents\n",
    "            self.metric_store = Chroma(\n",
    "                collection_name=\"metrics\",\n",
    "                embedding_function=self.embeddings,\n",
    "                persist_directory=f\"{self.persist_directory}/metrics\"\n",
    "            )\n",
    "            self.dimension_store = Chroma(\n",
    "                collection_name=\"dimensions\",\n",
    "                embedding_function=self.embeddings,\n",
    "                persist_directory=f\"{self.persist_directory}/dimensions\"\n",
    "            )\n",
    "            \n",
    "            if metric_docs:\n",
    "                self.metric_store.add_documents(metric_docs)\n",
    "            if dimension_docs:\n",
    "                self.dimension_store.add_documents(dimension_docs)\n",
    "    \n",
    "    async def retrieve(\n",
    "        self, \n",
    "        query: str, \n",
    "        k_metrics: int = 3,\n",
    "        k_dimensions: int = 8\n",
    "    ) -> RetrievalResult:\n",
    "        \"\"\"\n",
    "        Retrieve relevant metrics and dimensions from the semantic layer.\n",
    "        Returns structured data that can be used by a query construction prompt.\n",
    "        \"\"\"\n",
    "        # Get relevant metrics\n",
    "        metric_docs = self.metric_store.similarity_search(query, k=k_metrics)\n",
    "        metric_ids = [doc.metadata[\"id\"] for doc in metric_docs]\n",
    "        \n",
    "        # Get relevant dimensions, filtered by retrieved metrics\n",
    "        dimension_docs = self.dimension_store.similarity_search(\n",
    "            query,\n",
    "            k=k_dimensions,\n",
    "            filter={\"metric_id\": {\"$in\": metric_ids}}\n",
    "        )\n",
    "        \n",
    "        return RetrievalResult(\n",
    "            metrics=[\n",
    "                RetrievedMetric(\n",
    "                    id=doc.metadata[\"id\"],\n",
    "                    name=doc.metadata[\"name\"],\n",
    "                    description=doc.metadata[\"description\"],\n",
    "                    type=doc.metadata[\"type\"],\n",
    "                ) for doc in metric_docs\n",
    "            ],\n",
    "            dimensions=[\n",
    "                RetrievedDimension(\n",
    "                    id=doc.metadata[\"id\"],\n",
    "                    name=doc.metadata[\"name\"],\n",
    "                    description=doc.metadata[\"description\"] or \"\",\n",
    "                    metric_id=doc.metadata[\"metric_id\"],\n",
    "                ) for doc in dimension_docs \n",
    "            ],\n",
    "        )\n"
   ]
  },
  {
   "cell_type": "code",
   "execution_count": 54,
   "id": "443e8307-14e2-442b-a7c4-25ae5d2d33ac",
   "metadata": {},
   "outputs": [],
   "source": [
    "# Initial setup and refresh (run this when you start or when metrics change)\n",
    "async def initialize_stores():\n",
    "    retriever = SemanticLayerRetriever(\n",
    "        environment_id=218762,\n",
    "        auth_token=os.getenv(\"DBT_CLOUD_SERVICE_TOKEN\"),\n",
    "        llm=ChatGroq(model_name=\"llama-3.3-70b-specdec\", temperature=0)\n",
    "    )\n",
    "    await retriever.refresh_stores()\n",
    "    return retriever\n",
    "\n",
    "# Query function (use this for each query)\n",
    "async def get_semantic_layer_results(retriever: SemanticLayerRetriever, query: str):\n",
    "    return await retriever.retrieve(query)"
   ]
  },
  {
   "cell_type": "code",
   "execution_count": 55,
   "id": "d26e0857-8090-422e-a9f4-a16e49b36e51",
   "metadata": {},
   "outputs": [
    {
     "name": "stderr",
     "output_type": "stream",
     "text": [
      "/Users/dpg/repos/dbt-sl-streamlit/.venv/lib/python3.12/site-packages/adbc_driver_manager/dbapi.py:307: Warning: Cannot disable autocommit; conn will not be DB-API 2.0 compliant\n",
      "  warnings.warn(\n"
     ]
    }
   ],
   "source": [
    "retriever = await initialize_stores()"
   ]
  },
  {
   "cell_type": "code",
   "execution_count": 57,
   "id": "874aeeac-8fe3-44a4-8c28-1541062a086a",
   "metadata": {},
   "outputs": [
    {
     "data": {
      "text/plain": [
       "RetrievalResult(metrics=[RetrievedMetric(id='total_revenue', name='total_revenue', description='The total revenue for the business.', type='SIMPLE'), RetrievedMetric(id='cumulative_revenue_total', name='cumulative_revenue_total', description='The cumulative revenue for the business', type='CUMULATIVE'), RetrievedMetric(id='total_profit', name='total_profit', description='The total profit for the business', type='DERIVED')], dimensions=[RetrievedDimension(id='cumulative_revenue_total_customer__customer_balance_segment', name='customer__customer_balance_segment', description='Bucketing customers by their account balance', metric_id='cumulative_revenue_total'), RetrievedDimension(id='total_profit_customer__customer_balance_segment', name='customer__customer_balance_segment', description='Bucketing customers by their account balance', metric_id='total_profit'), RetrievedDimension(id='total_revenue_customer__customer_balance_segment', name='customer__customer_balance_segment', description='Bucketing customers by their account balance', metric_id='total_revenue'), RetrievedDimension(id='total_profit_customer__region', name='customer__region', description='The region the customer belongs to', metric_id='total_profit'), RetrievedDimension(id='total_revenue_customer__region', name='customer__region', description='The region the customer belongs to', metric_id='total_revenue'), RetrievedDimension(id='cumulative_revenue_total_customer__region', name='customer__region', description='The region the customer belongs to', metric_id='cumulative_revenue_total'), RetrievedDimension(id='total_profit_customer__customer_name', name='customer__customer_name', description='The name of the customer', metric_id='total_profit'), RetrievedDimension(id='total_revenue_customer__customer_name', name='customer__customer_name', description='The name of the customer', metric_id='total_revenue')])"
      ]
     },
     "execution_count": 57,
     "metadata": {},
     "output_type": "execute_result"
    }
   ],
   "source": [
    "await get_semantic_layer_results(retriever, \"What is total ARR by sales director in 2023?\")"
   ]
  },
  {
   "cell_type": "code",
   "execution_count": 60,
   "id": "59fb6f22-9304-4e47-bfc9-fd15067b0164",
   "metadata": {},
   "outputs": [],
   "source": [
    "async with retriever.client.session():\n",
    "    metrics = await retriever.client.metrics()"
   ]
  },
  {
   "cell_type": "code",
   "execution_count": 63,
   "id": "3a40b5c5-3ce0-4278-94aa-a7dd29b41fe0",
   "metadata": {},
   "outputs": [
    {
     "data": {
      "text/plain": [
       "Metric(name='total_revenue', description='The total revenue for the business.', type=<MetricType.SIMPLE: 'SIMPLE'>, dimensions=[Dimension(name='customer__customer_balance_segment', qualified_name='customer__customer_balance_segment', description='Bucketing customers by their account balance', type=<DimensionType.CATEGORICAL: 'CATEGORICAL'>, label=None, is_partition=False, expr=\"case\\n  when account_balance < 0 then 'Bad Debt'\\n  when account_balance < 2500 then 'Low'\\n  when account_balance < 7500 then 'Medium'\\n  else 'High'\\nend\", queryable_granularities=[]), Dimension(name='customer__customer_id', qualified_name='customer__customer_id', description='The ID of the customer', type=<DimensionType.CATEGORICAL: 'CATEGORICAL'>, label=None, is_partition=False, expr='customer_key', queryable_granularities=[]), Dimension(name='customer__customer_market_segment', qualified_name='customer__customer_market_segment', description='The market segment the customer belongs to', type=<DimensionType.CATEGORICAL: 'CATEGORICAL'>, label=None, is_partition=False, expr='market_segment', queryable_granularities=[]), Dimension(name='customer__customer_name', qualified_name='customer__customer_name', description='The name of the customer', type=<DimensionType.CATEGORICAL: 'CATEGORICAL'>, label=None, is_partition=False, expr='name', queryable_granularities=[]), Dimension(name='customer__nation', qualified_name='customer__nation', description='The nation the customer belongs to', type=<DimensionType.CATEGORICAL: 'CATEGORICAL'>, label=None, is_partition=False, expr='nation', queryable_granularities=[]), Dimension(name='customer__region', qualified_name='customer__region', description='The region the customer belongs to', type=<DimensionType.CATEGORICAL: 'CATEGORICAL'>, label=None, is_partition=False, expr='region', queryable_granularities=[]), Dimension(name='customer__user_id', qualified_name='customer__user_id', description='The user mapped to the customer', type=<DimensionType.CATEGORICAL: 'CATEGORICAL'>, label=None, is_partition=False, expr=None, queryable_granularities=[]), Dimension(name='customer_order__clerk_on_order', qualified_name='customer_order__clerk_on_order', description='The clerk on the order', type=<DimensionType.CATEGORICAL: 'CATEGORICAL'>, label=None, is_partition=False, expr='clerk_name', queryable_granularities=[]), Dimension(name='customer_order__order_date', qualified_name='customer_order__order_date', description=None, type=<DimensionType.TIME: 'TIME'>, label=None, is_partition=False, expr=None, queryable_granularities=[<TimeGranularity.DAY: 'DAY'>, <TimeGranularity.WEEK: 'WEEK'>, <TimeGranularity.MONTH: 'MONTH'>, <TimeGranularity.QUARTER: 'QUARTER'>, <TimeGranularity.YEAR: 'YEAR'>]), Dimension(name='customer_order__order_priority_code', qualified_name='customer_order__order_priority_code', description='Indicates the priority of the order', type=<DimensionType.CATEGORICAL: 'CATEGORICAL'>, label=None, is_partition=False, expr='priority_code', queryable_granularities=[]), Dimension(name='customer_order__order_status_code', qualified_name='customer_order__order_status_code', description='Indicates the status of the order', type=<DimensionType.CATEGORICAL: 'CATEGORICAL'>, label=None, is_partition=False, expr='status_code', queryable_granularities=[]), Dimension(name='metric_time', qualified_name='metric_time__day', description='Event time for metrics.', type=<DimensionType.TIME: 'TIME'>, label=None, is_partition=False, expr=None, queryable_granularities=[<TimeGranularity.DAY: 'DAY'>, <TimeGranularity.WEEK: 'WEEK'>, <TimeGranularity.MONTH: 'MONTH'>, <TimeGranularity.QUARTER: 'QUARTER'>, <TimeGranularity.YEAR: 'YEAR'>])], measures=[Measure(name='total_revenue', agg_time_dimension='order_date', agg=<AggregationType.SUM: 'SUM'>, expr='gross_item_sales_amount')], entities=[Entity(name='customer_order', description=None, type=<EntityType.PRIMARY: 'PRIMARY'>, role=None, expr='order_key'), Entity(name='customer', description=None, type=<EntityType.FOREIGN: 'FOREIGN'>, role=None, expr='customer_key')], queryable_granularities=[<TimeGranularity.DAY: 'DAY'>, <TimeGranularity.WEEK: 'WEEK'>, <TimeGranularity.MONTH: 'MONTH'>, <TimeGranularity.QUARTER: 'QUARTER'>, <TimeGranularity.YEAR: 'YEAR'>], label='Total Revenue', requires_metric_time=False)"
      ]
     },
     "execution_count": 63,
     "metadata": {},
     "output_type": "execute_result"
    }
   ],
   "source": [
    "metrics[0]"
   ]
  }
 ],
 "metadata": {
  "kernelspec": {
   "display_name": "Python 3 (ipykernel)",
   "language": "python",
   "name": "python3"
  },
  "language_info": {
   "codemirror_mode": {
    "name": "ipython",
    "version": 3
   },
   "file_extension": ".py",
   "mimetype": "text/x-python",
   "name": "python",
   "nbconvert_exporter": "python",
   "pygments_lexer": "ipython3",
   "version": "3.12.8"
  }
 },
 "nbformat": 4,
 "nbformat_minor": 5
}
